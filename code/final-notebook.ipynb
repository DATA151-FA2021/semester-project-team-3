{
  "nbformat": 4,
  "nbformat_minor": 0,
  "metadata": {
    "kernelspec": {
      "display_name": "Python 3",
      "language": "python",
      "name": "python3"
    },
    "language_info": {
      "codemirror_mode": {
        "name": "ipython",
        "version": 3
      },
      "file_extension": ".py",
      "mimetype": "text/x-python",
      "name": "python",
      "nbconvert_exporter": "python",
      "pygments_lexer": "ipython3",
      "version": "3.6.4"
    },
    "colab": {
      "name": "stage2-modeling.ipynb",
      "provenance": [],
      "collapsed_sections": []
    }
  },
  "cells": [
    {
      "cell_type": "code",
      "metadata": {
        "id": "Y4Z5nXc8kgPz",
        "colab": {
          "base_uri": "https://localhost:8080/"
        },
        "outputId": "4a160167-5ced-4419-f8c2-c594d018ab20"
      },
      "source": [
        "import matplotlib.pyplot as plt\n",
        "import numpy as np\n",
        "import pandas as pd\n",
        "import seaborn as sns\n",
        "import random as rand\n",
        "from sklearn.model_selection import (\n",
        "    train_test_split,\n",
        "    StratifiedShuffleSplit,\n",
        "    cross_val_score,\n",
        ")\n",
        "from sklearn.linear_model import LogisticRegression\n",
        "from sklearn.tree import DecisionTreeClassifier, export_graphviz\n",
        "from sklearn import metrics\n",
        "from sklearn.preprocessing import LabelEncoder, OneHotEncoder\n",
        "from sklearn.metrics import (\n",
        "    accuracy_score,\n",
        "    recall_score,\n",
        "    precision_score,\n",
        "    f1_score,\n",
        "    confusion_matrix,\n",
        "    roc_curve,\n",
        "    roc_auc_score,\n",
        ")\n",
        "from sklearn.ensemble import RandomForestClassifier\n",
        "from sklearn.cluster import KMeans\n",
        "from imblearn.over_sampling import RandomOverSampler, SMOTE\n",
        "from scipy.stats import chi2_contingency\n",
        "from statsmodels.graphics.mosaicplot import mosaic"
      ],
      "execution_count": null,
      "outputs": [
        {
          "output_type": "stream",
          "name": "stderr",
          "text": [
            "/usr/local/lib/python3.7/dist-packages/statsmodels/tools/_testing.py:19: FutureWarning: pandas.util.testing is deprecated. Use the functions in the public API at pandas.testing instead.\n",
            "  import pandas.util.testing as tm\n"
          ]
        }
      ]
    },
    {
      "cell_type": "code",
      "metadata": {
        "id": "Auf6m6R4mxsg"
      },
      "source": [
        "# Globals...\n",
        "# A bunch of variables that are used in the runModel function, but aren't passed \n",
        "# as arguments.\n",
        "\n",
        "RAND=23\n",
        "CROSS_VAL_SPLIT=5\n",
        "TEST_SIZE=0.2\n",
        "Y_PRED_PROB_THRESH=0.2"
      ],
      "execution_count": null,
      "outputs": []
    },
    {
      "cell_type": "code",
      "metadata": {
        "id": "bEtImR_skgP-",
        "colab": {
          "base_uri": "https://localhost:8080/"
        },
        "outputId": "68e0be5f-c9e4-4367-c2ea-fe143f3246f6"
      },
      "source": [
        "df = pd.read_csv(\"student_por_mod.csv\")\n",
        "print(len(df))"
      ],
      "execution_count": null,
      "outputs": [
        {
          "output_type": "stream",
          "name": "stdout",
          "text": [
            "649\n"
          ]
        }
      ]
    },
    {
      "cell_type": "code",
      "metadata": {
        "id": "wrup43o_kgQA"
      },
      "source": [
        "df[\"failures\"] = df[\"failures\"].map({0: \"no_fail\", 1: \"fail\", 2: \"fail\", 3: \"fail\"})\n",
        "\n",
        "df[\"failures\"] = np.where(df.failures == \"fail\", 1, 0)"
      ],
      "execution_count": null,
      "outputs": []
    },
    {
      "cell_type": "code",
      "metadata": {
        "id": "ZbSPWHc8kgQE",
        "colab": {
          "base_uri": "https://localhost:8080/"
        },
        "outputId": "ce9eb583-f800-46c2-e338-53d2d16448d8"
      },
      "source": [
        "# Get the column names for all variables that have a correlation value greater \n",
        "# than or equal to .10 with failures, as these are likely to be significant \n",
        "# variables.\n",
        "predictors=[col for col, cor in df.corr()['failures'].items() if np.abs(cor) >= .10 and not col == \"failures\"]\n",
        "print(predictors)"
      ],
      "execution_count": null,
      "outputs": [
        {
          "output_type": "stream",
          "name": "stdout",
          "text": [
            "['age', 'Medu', 'Fedu', 'traveltime', 'studytime', 'Dalc', 'absences', 'G1', 'G2', 'G3']\n"
          ]
        }
      ]
    },
    {
      "cell_type": "code",
      "source": [
        "fig = plt.figure(figsize=(12, 12))\n",
        "corr_p = list(predictors.copy())\n",
        "corr_p.append(\"failures\")\n",
        "sns.heatmap(df[list(corr_p)].corr(), vmin=-1, vmax=1, annot=True, cmap='plasma')"
      ],
      "metadata": {
        "colab": {
          "base_uri": "https://localhost:8080/",
          "height": 763
        },
        "id": "OOmjo6eSi-G5",
        "outputId": "1feb0789-c39e-47f6-b4fb-15c9d04ece44"
      },
      "execution_count": null,
      "outputs": [
        {
          "output_type": "execute_result",
          "data": {
            "text/plain": [
              "<matplotlib.axes._subplots.AxesSubplot at 0x7f5db699aa10>"
            ]
          },
          "metadata": {},
          "execution_count": 6
        },
        {
          "output_type": "display_data",
          "data": {
            "image/png": "[encoded data removed]",
            "text/plain": [
              "<Figure size 864x864 with 2 Axes>"
            ]
          },
          "metadata": {
            "needs_background": "light"
          }
        }
      ]
    },
    {
      "cell_type": "code",
      "metadata": {
        "colab": {
          "base_uri": "https://localhost:8080/"
        },
        "id": "nKMe-987kgQF",
        "outputId": "5960148d-39df-4966-e4e5-20caecfe3843"
      },
      "source": [
        "x = pd.get_dummies(df[predictors], drop_first=True)\n",
        "print(x.head())"
      ],
      "execution_count": null,
      "outputs": [
        {
          "output_type": "stream",
          "name": "stdout",
          "text": [
            "   age  Medu  Fedu  traveltime  studytime  Dalc  absences  G1  G2  G3\n",
            "0   18     4     4           2          2     1         4   0  11  11\n",
            "1   17     1     1           1          2     1         2   9  11  11\n",
            "2   15     1     1           1          2     2         6  12  13  12\n",
            "3   15     4     2           1          3     1         0  14  14  14\n",
            "4   16     3     3           1          2     1         0  11  13  13\n"
          ]
        }
      ]
    },
    {
      "cell_type": "code",
      "metadata": {
        "id": "JIEY0wmCkgQG"
      },
      "source": [
        "y = df[\"failures\"]"
      ],
      "execution_count": null,
      "outputs": []
    },
    {
      "cell_type": "code",
      "metadata": {
        "id": "sNIqyL4okgQI"
      },
      "source": [
        "rand.seed(RAND)"
      ],
      "execution_count": null,
      "outputs": []
    },
    {
      "cell_type": "code",
      "metadata": {
        "id": "m7ohEWBBkgQK"
      },
      "source": [
        "x_train, x_val, y_train, y_val = train_test_split(x, y, test_size=TEST_SIZE, stratify=y)"
      ],
      "execution_count": null,
      "outputs": []
    },
    {
      "cell_type": "code",
      "metadata": {
        "id": "owZicXejkgQN"
      },
      "source": [
        "def runModel(model, xt, yt, xv, yv):\n",
        "    model.fit(xt, yt)\n",
        "    y_pred = model.predict(xv)\n",
        "    y_pred_prob = model.predict_proba(xv)[:, 1]\n",
        "    print(y_pred_prob[0:10])  # first coloumn is prob of negative class (fail)\n",
        "    labels = np.unique(yv)\n",
        "    cm = confusion_matrix(yv, y_pred_prob > Y_PRED_PROB_THRESH, labels=labels)\n",
        "    print(pd.DataFrame(cm, index=labels, columns=labels))\n",
        "    print(f\"{accuracy_score.__name__} : {accuracy_score(yv, y_pred_prob > Y_PRED_PROB_THRESH)}\")\n",
        "    for func in [recall_score, precision_score, f1_score]:\n",
        "        print(f\"{func.__name__} :  {func(yv, y_pred_prob > Y_PRED_PROB_THRESH, average = 'weighted')}\")\n",
        "\n",
        "    # print classification report\n",
        "    print(metrics.classification_report(yv, y_pred))\n",
        "    # calculate scores & Extracting probabilities\n",
        "    auc = roc_auc_score(yv, pd.Series(model.predict_proba(xv)[:, 1]))\n",
        "    # summarize scores\n",
        "    print(f\"ROC AUC : {auc:.3f}\")\n",
        "    plt.rcParams[\"figure.figsize\"]=(10, 5)\n",
        "    plt.figure()\n",
        "    m_fpr, m_tpr, _ = roc_curve(yv, pd.Series(y_pred_prob))\n",
        "    plt.plot(m_fpr, m_tpr, color=\"darkorange\", lw=3)\n",
        "    plt.xlabel(\"False Positive Rate\")\n",
        "    plt.ylabel(\"True Positive Rate\")\n",
        "    plt.savefig(f\"{model}.png\", dpi=150, bbox_inches=\"tight\")\n",
        "\n",
        "    # Cross-validation\n",
        "    scores = cross_val_score(model, xt, yt, cv=CROSS_VAL_SPLIT, scoring=\"recall\")\n",
        "    print(f\"cross validation : {scores}\\nmean : {scores.mean()}\")\n",
        "\n",
        "    # Cross-validation splitter as a cv parameter\n",
        "    shuffle_split = StratifiedShuffleSplit(\n",
        "        #TEST_SIZE,\n",
        "       #n_splits=CROSS_VAL_SPLIT,\n",
        "        random_state=RAND,\n",
        "    )\n",
        "    scores = cross_val_score(model, xt, yt, cv=shuffle_split, scoring=\"recall\")\n",
        "    print(f\"(shuffled-split) cross validation : {scores}\\nmean : {scores.mean()}\")"
      ],
      "execution_count": null,
      "outputs": []
    },
    {
      "cell_type": "markdown",
      "metadata": {
        "id": "js_2wQCtkgQQ"
      },
      "source": [
        "First Model: Decision Tree"
      ]
    },
    {
      "cell_type": "code",
      "metadata": {
        "colab": {
          "base_uri": "https://localhost:8080/",
          "height": 733
        },
        "id": "Yi7P8FKbkgQR",
        "outputId": "9072963a-3aad-403b-a595-b782f7dba3f8"
      },
      "source": [
        "# Decision Tree\n",
        "\n",
        "d_tree = DecisionTreeClassifier(max_depth=3, random_state=RAND)\n",
        "runModel(d_tree, x_train, y_train, x_val, y_val)"
      ],
      "execution_count": null,
      "outputs": [
        {
          "output_type": "stream",
          "name": "stdout",
          "text": [
            "[0.24731183 0.0152439  0.24731183 0.0152439  0.0152439  0.21428571\n",
            " 0.0152439  0.0152439  0.0152439  0.54166667]\n",
            "    0   1\n",
            "0  86  24\n",
            "1   4  16\n",
            "accuracy_score : 0.7846153846153846\n",
            "recall_score :  0.7846153846153846\n",
            "precision_score :  0.8700854700854701\n",
            "f1_score :  0.8097435897435897\n",
            "              precision    recall  f1-score   support\n",
            "\n",
            "           0       0.90      0.95      0.92       110\n",
            "           1       0.60      0.45      0.51        20\n",
            "\n",
            "    accuracy                           0.87       130\n",
            "   macro avg       0.75      0.70      0.72       130\n",
            "weighted avg       0.86      0.87      0.86       130\n",
            "\n",
            "ROC AUC : 0.800\n",
            "cross validation : [0.5    0.0625 0.5    0.75   0.4375]\n",
            "mean : 0.45\n",
            "(shuffled-split) cross validation : [0.    0.75  0.    0.125 0.375 0.75  0.5   0.625 0.375 0.625]\n",
            "mean : 0.4125\n"
          ]
        },
        {
          "output_type": "display_data",
          "data": {
            "image/png": "[encoded data removed]",
            "text/plain": [
              "<Figure size 720x360 with 1 Axes>"
            ]
          },
          "metadata": {
            "needs_background": "light"
          }
        }
      ]
    },
    {
      "cell_type": "code",
      "metadata": {
        "colab": {
          "base_uri": "https://localhost:8080/",
          "height": 751
        },
        "id": "WUBM06MqY6So",
        "outputId": "78c0cc24-8a61-4476-b43a-0dccd995a4b5"
      },
      "source": [
        "# Decision Tree with SMOTE\n",
        "sm = SMOTE(sampling_strategy=\"minority\", random_state=RAND)\n",
        "x_train_res, y_train_res = sm.fit_resample(x_train, y_train)\n",
        "d_tree = DecisionTreeClassifier(max_depth=3, random_state=RAND)\n",
        "runModel(d_tree, x_train_res, y_train_res, x_val, y_val)"
      ],
      "execution_count": null,
      "outputs": [
        {
          "output_type": "stream",
          "name": "stdout",
          "text": [
            "[0.87989556 0.05       0.64772727 0.05       0.05       0.45\n",
            " 0.05       0.05       0.05       0.87989556]\n",
            "    0   1\n",
            "0  89  21\n",
            "1   4  16\n",
            "accuracy_score : 0.8076923076923077\n",
            "recall_score :  0.8076923076923077\n",
            "precision_score :  0.8762881988688441\n",
            "f1_score :  0.8283174780452459\n",
            "              precision    recall  f1-score   support\n",
            "\n",
            "           0       0.95      0.85      0.89       110\n",
            "           1       0.47      0.75      0.58        20\n",
            "\n",
            "    accuracy                           0.83       130\n",
            "   macro avg       0.71      0.80      0.74       130\n",
            "weighted avg       0.88      0.83      0.85       130\n",
            "\n",
            "ROC AUC : 0.853\n",
            "cross validation : [0.84090909 0.95454545 0.92045455 0.96551724 0.95454545]\n",
            "mean : 0.9271943573667712\n",
            "(shuffled-split) cross validation : [0.90909091 0.90909091 0.97727273 0.88636364 0.86363636 0.97727273\n",
            " 0.81818182 0.90909091 0.90909091 0.88636364]\n",
            "mean : 0.9045454545454545\n"
          ]
        },
        {
          "output_type": "display_data",
          "data": {
            "image/png": "[encoded data removed]",
            "text/plain": [
              "<Figure size 720x360 with 1 Axes>"
            ]
          },
          "metadata": {
            "needs_background": "light"
          }
        }
      ]
    },
    {
      "cell_type": "markdown",
      "metadata": {
        "id": "gUcxQOaNkgQS"
      },
      "source": [
        "Second Model: Random Forest"
      ]
    },
    {
      "cell_type": "code",
      "metadata": {
        "colab": {
          "base_uri": "https://localhost:8080/",
          "height": 716
        },
        "id": "3Ai_soQEkgQT",
        "outputId": "ca4358ce-e3c7-441c-fe47-167ea417a0b6"
      },
      "source": [
        "# Random forest with no SMOTE\n",
        "\n",
        "r_forest = RandomForestClassifier(n_estimators=500, random_state=RAND)\n",
        "runModel(r_forest, x_train, y_train, x_val, y_val)"
      ],
      "execution_count": null,
      "outputs": [
        {
          "output_type": "stream",
          "name": "stdout",
          "text": [
            "[0.372 0.062 0.19  0.08  0.022 0.056 0.002 0.126 0.032 0.672]\n",
            "    0   1\n",
            "0  94  16\n",
            "1   6  14\n",
            "accuracy_score : 0.8307692307692308\n",
            "recall_score :  0.8307692307692308\n",
            "precision_score :  0.8671794871794871\n",
            "f1_score :  0.8436630036630036\n",
            "              precision    recall  f1-score   support\n",
            "\n",
            "           0       0.89      0.98      0.94       110\n",
            "           1       0.78      0.35      0.48        20\n",
            "\n",
            "    accuracy                           0.88       130\n",
            "   macro avg       0.84      0.67      0.71       130\n",
            "weighted avg       0.87      0.88      0.87       130\n",
            "\n",
            "ROC AUC : 0.862\n",
            "cross validation : [0.4375 0.0625 0.3125 0.6875 0.25  ]\n",
            "mean : 0.35\n",
            "(shuffled-split) cross validation : [0.25  0.375 0.375 0.125 0.375 0.625 0.375 0.375 0.5   0.375]\n",
            "mean : 0.375\n"
          ]
        },
        {
          "output_type": "display_data",
          "data": {
            "image/png": "[encoded data removed]",
            "text/plain": [
              "<Figure size 720x360 with 1 Axes>"
            ]
          },
          "metadata": {
            "needs_background": "light"
          }
        }
      ]
    },
    {
      "cell_type": "markdown",
      "metadata": {
        "id": "7NLkoDEkkgQU"
      },
      "source": [
        "Plotting variable importance for Random Forest"
      ]
    },
    {
      "cell_type": "code",
      "metadata": {
        "colab": {
          "base_uri": "https://localhost:8080/",
          "height": 622
        },
        "id": "oMIY8z_4kgQU",
        "outputId": "7afbff0c-3760-44c6-dc55-a960b0881478"
      },
      "source": [
        "plt.figure(figsize=(5, 10))\n",
        "sorted_idx = r_forest.feature_importances_.argsort()\n",
        "plt.barh(x.columns[0:][sorted_idx], r_forest.feature_importances_[sorted_idx])\n",
        "plt.xlabel(f\"{r_forest} Feature Importance\")\n",
        "plt.title(f\"{r_forest} Feature Imortance by Group 3\")\n",
        "plt.savefig(f\"{r_forest}_feature_importance.png\", dpi=150, bbox_inches=\"tight\")"
      ],
      "execution_count": null,
      "outputs": [
        {
          "output_type": "display_data",
          "data": {
            "image/png": "[encoded data removed]",
            "text/plain": [
              "<Figure size 360x720 with 1 Axes>"
            ]
          },
          "metadata": {
            "needs_background": "light"
          }
        }
      ]
    },
    {
      "cell_type": "markdown",
      "metadata": {
        "id": "C2zSKakEkgQW"
      },
      "source": [
        "Third Model: Random Forest with SMOTE undersampling"
      ]
    },
    {
      "cell_type": "code",
      "metadata": {
        "id": "iidh9SlCkgQY"
      },
      "source": [
        "sm = SMOTE(sampling_strategy=\"minority\", random_state=RAND)\n",
        "x_train_res, y_train_res = sm.fit_resample(x_train, y_train)"
      ],
      "execution_count": null,
      "outputs": []
    },
    {
      "cell_type": "code",
      "metadata": {
        "colab": {
          "base_uri": "https://localhost:8080/",
          "height": 733
        },
        "id": "e-hlWdABkgQY",
        "outputId": "611d5273-c48f-43b5-93a0-eae5febf10dc"
      },
      "source": [
        "# Random forest with SMOTE\n",
        "RF = RandomForestClassifier(random_state=RAND)\n",
        "runModel(RF, x_train_res, y_train_res, x_val, y_val)"
      ],
      "execution_count": null,
      "outputs": [
        {
          "output_type": "stream",
          "name": "stdout",
          "text": [
            "[0.49 0.11 0.29 0.06 0.07 0.04 0.   0.15 0.09 0.83]\n",
            "    0   1\n",
            "0  84  26\n",
            "1   5  15\n",
            "accuracy_score : 0.7615384615384615\n",
            "recall_score :  0.7615384615384615\n",
            "precision_score :  0.8549022914602524\n",
            "f1_score :  0.7900029783216206\n",
            "              precision    recall  f1-score   support\n",
            "\n",
            "           0       0.89      0.93      0.91       110\n",
            "           1       0.50      0.40      0.44        20\n",
            "\n",
            "    accuracy                           0.85       130\n",
            "   macro avg       0.70      0.66      0.68       130\n",
            "weighted avg       0.83      0.85      0.84       130\n",
            "\n",
            "ROC AUC : 0.845\n",
            "cross validation : [0.86363636 0.93181818 0.93181818 0.97701149 0.98863636]\n",
            "mean : 0.9385841170323929\n",
            "(shuffled-split) cross validation : [0.95454545 0.97727273 0.97727273 0.90909091 0.93181818 0.95454545\n",
            " 0.90909091 0.97727273 0.95454545 0.95454545]\n",
            "mean : 0.95\n"
          ]
        },
        {
          "output_type": "display_data",
          "data": {
            "image/png": "[encoded data removed]",
            "text/plain": [
              "<Figure size 720x360 with 1 Axes>"
            ]
          },
          "metadata": {
            "needs_background": "light"
          }
        }
      ]
    },
    {
      "cell_type": "markdown",
      "metadata": {
        "id": "52Nv3rJYkgQZ"
      },
      "source": [
        "Fourth Model: Logistic Regression"
      ]
    },
    {
      "cell_type": "code",
      "metadata": {
        "id": "oNNBFWnzkgQZ"
      },
      "source": [
        "# Drop all non-binary/continuous variables. \n",
        "# TODO: see if this can be automated.\n",
        "df = pd.read_csv(\"student_por_mod.csv\")\n",
        "drop_cols = [col for col, cor in  df.select_dtypes([np.number]).corr().items()]\n",
        "drop_cols.remove(\"failures\")\n",
        "df = df.drop(drop_cols, axis=1,)"
      ],
      "execution_count": null,
      "outputs": []
    },
    {
      "cell_type": "markdown",
      "metadata": {
        "id": "TClBu6w2kgQa"
      },
      "source": [
        "Using train_test_split function to split the dataset"
      ]
    },
    {
      "cell_type": "code",
      "metadata": {
        "id": "iT89A_LYkgQc"
      },
      "source": [
        "x_train, x_val, y_train, y_val = train_test_split(x, y, test_size=TEST_SIZE, stratify=y, random_state=RAND)"
      ],
      "execution_count": null,
      "outputs": []
    },
    {
      "cell_type": "markdown",
      "metadata": {
        "id": "431n-YLGkgQd"
      },
      "source": [
        "Chi Square test of Independence"
      ]
    },
    {
      "cell_type": "code",
      "metadata": {
        "colab": {
          "base_uri": "https://localhost:8080/"
        },
        "id": "HP_KiaRCkgQe",
        "outputId": "5418996d-1bca-4d73-9d9d-2dfd88169983"
      },
      "source": [
        "# Save all variables who's p-value from the chi-squre test is less than 0.05\n",
        "significant_variables=[]\n",
        "for col in df.columns[1:]:\n",
        "    crosstab = pd.crosstab(df[col], df[\"failures\"], margins=True)\n",
        "    stat, p, dof, expected = chi2_contingency(crosstab)\n",
        "    print(\"P value of Chi Square between failures and\", col, \"is\", p)\n",
        "    if p < .05 and not col == \"failures\":\n",
        "      significant_variables.append(col)\n",
        "print(significant_variables)"
      ],
      "execution_count": null,
      "outputs": [
        {
          "output_type": "stream",
          "name": "stdout",
          "text": [
            "P value of Chi Square between failures and sex is 0.7681189589331214\n",
            "P value of Chi Square between failures and address is 0.31903625373003225\n",
            "P value of Chi Square between failures and famsize is 0.3848317164098338\n",
            "P value of Chi Square between failures and Pstatus is 0.5842240156499936\n",
            "P value of Chi Square between failures and Mjob is 0.49083824022501366\n",
            "P value of Chi Square between failures and Fjob is 0.9329515861775366\n",
            "P value of Chi Square between failures and reason is 0.05532513201245633\n",
            "P value of Chi Square between failures and guardian is 1.731162840401958e-07\n",
            "P value of Chi Square between failures and failures is 0.0\n",
            "P value of Chi Square between failures and schoolsup is 0.9998179078186943\n",
            "P value of Chi Square between failures and famsup is 0.9999834157485927\n",
            "P value of Chi Square between failures and paid is 0.839873920060282\n",
            "P value of Chi Square between failures and activities is 0.5425512268303463\n",
            "P value of Chi Square between failures and nursery is 0.8731594141444805\n",
            "P value of Chi Square between failures and higher is 1.87449394451058e-11\n",
            "P value of Chi Square between failures and internet is 0.5074784735391957\n",
            "P value of Chi Square between failures and romantic is 0.814550136863311\n",
            "['guardian', 'higher']\n"
          ]
        }
      ]
    },
    {
      "cell_type": "code",
      "metadata": {
        "colab": {
          "base_uri": "https://localhost:8080/",
          "height": 981
        },
        "id": "vxVCv11okgQf",
        "outputId": "88fb715f-283e-45ea-f50b-c5afcbee107f"
      },
      "source": [
        "# Print out a mosaic plot for each of our previously detected significant variables.\n",
        "for sigvar in significant_variables:\n",
        "  plt.rcParams[\"figure.figsize\"]=(8, 8)\n",
        "  mosaic(data=df, index=[sigvar, \"failures\"])\n",
        "  plt.title(f\"Mosaic Plot of {sigvar} and Failures by Group 3\")"
      ],
      "execution_count": null,
      "outputs": [
        {
          "output_type": "display_data",
          "data": {
            "image/png": "[encoded data removed]",
            "text/plain": [
              "<Figure size 576x576 with 3 Axes>"
            ]
          },
          "metadata": {
            "needs_background": "light"
          }
        },
        {
          "output_type": "display_data",
          "data": {
            "image/png": "[encoded data removed]",
            "text/plain": [
              "<Figure size 576x576 with 3 Axes>"
            ]
          },
          "metadata": {
            "needs_background": "light"
          }
        }
      ]
    },
    {
      "cell_type": "code",
      "metadata": {
        "colab": {
          "base_uri": "https://localhost:8080/"
        },
        "id": "TAh8JCd1kgQg",
        "outputId": "b1e72744-7cc1-4b6c-a5b2-41376fcd0f57"
      },
      "source": [
        "print(df[\"failures\"].value_counts())"
      ],
      "execution_count": null,
      "outputs": [
        {
          "output_type": "stream",
          "name": "stdout",
          "text": [
            "0    549\n",
            "1     70\n",
            "2     16\n",
            "3     14\n",
            "Name: failures, dtype: int64\n"
          ]
        }
      ]
    },
    {
      "cell_type": "code",
      "metadata": {
        "id": "aMOFMEtFkgQh"
      },
      "source": [
        "predictors = pd.Index(significant_variables)"
      ],
      "execution_count": null,
      "outputs": []
    },
    {
      "cell_type": "code",
      "metadata": {
        "colab": {
          "base_uri": "https://localhost:8080/",
          "height": 206
        },
        "id": "j_qZiueCkgQh",
        "outputId": "fc1b227e-36b6-4280-e304-ed8eb8b1ef49"
      },
      "source": [
        "x = pd.get_dummies(df[predictors], drop_first=True)\n",
        "x.head()"
      ],
      "execution_count": null,
      "outputs": [
        {
          "output_type": "execute_result",
          "data": {
            "text/html": [
              "<div>\n",
              "<style scoped>\n",
              "    .dataframe tbody tr th:only-of-type {\n",
              "        vertical-align: middle;\n",
              "    }\n",
              "\n",
              "    .dataframe tbody tr th {\n",
              "        vertical-align: top;\n",
              "    }\n",
              "\n",
              "    .dataframe thead th {\n",
              "        text-align: right;\n",
              "    }\n",
              "</style>\n",
              "<table border=\"1\" class=\"dataframe\">\n",
              "  <thead>\n",
              "    <tr style=\"text-align: right;\">\n",
              "      <th></th>\n",
              "      <th>guardian_mother</th>\n",
              "      <th>guardian_other</th>\n",
              "      <th>higher_yes</th>\n",
              "    </tr>\n",
              "  </thead>\n",
              "  <tbody>\n",
              "    <tr>\n",
              "      <th>0</th>\n",
              "      <td>1</td>\n",
              "      <td>0</td>\n",
              "      <td>1</td>\n",
              "    </tr>\n",
              "    <tr>\n",
              "      <th>1</th>\n",
              "      <td>0</td>\n",
              "      <td>0</td>\n",
              "      <td>1</td>\n",
              "    </tr>\n",
              "    <tr>\n",
              "      <th>2</th>\n",
              "      <td>1</td>\n",
              "      <td>0</td>\n",
              "      <td>1</td>\n",
              "    </tr>\n",
              "    <tr>\n",
              "      <th>3</th>\n",
              "      <td>1</td>\n",
              "      <td>0</td>\n",
              "      <td>1</td>\n",
              "    </tr>\n",
              "    <tr>\n",
              "      <th>4</th>\n",
              "      <td>0</td>\n",
              "      <td>0</td>\n",
              "      <td>1</td>\n",
              "    </tr>\n",
              "  </tbody>\n",
              "</table>\n",
              "</div>"
            ],
            "text/plain": [
              "   guardian_mother  guardian_other  higher_yes\n",
              "0                1               0           1\n",
              "1                0               0           1\n",
              "2                1               0           1\n",
              "3                1               0           1\n",
              "4                0               0           1"
            ]
          },
          "metadata": {},
          "execution_count": 24
        }
      ]
    },
    {
      "cell_type": "code",
      "metadata": {
        "colab": {
          "base_uri": "https://localhost:8080/",
          "height": 1000
        },
        "id": "tf8B92FukgQi",
        "outputId": "d8940770-9e78-471f-a1a2-49112398f5cf"
      },
      "source": [
        "# Logisitc Regression\n",
        "\n",
        "lr_clf = LogisticRegression(random_state =RAND)\n",
        "runModel(lr_clf, x_train, y_train, x_val, y_val)"
      ],
      "execution_count": null,
      "outputs": [
        {
          "output_type": "stream",
          "name": "stdout",
          "text": [
            "[0.06057747 0.90122084 0.00525149 0.0012539  0.22965533 0.06325158\n",
            " 0.11698723 0.07941342 0.05223666 0.0692682 ]\n",
            "    0   1\n",
            "0  92  18\n",
            "1   6  14\n",
            "accuracy_score : 0.8153846153846154\n",
            "recall_score :  0.8153846153846154\n",
            "precision_score :  0.8616562009419153\n",
            "f1_score :  0.8313609467455622\n",
            "              precision    recall  f1-score   support\n",
            "\n",
            "           0       0.89      0.93      0.91       110\n",
            "           1       0.50      0.40      0.44        20\n",
            "\n",
            "    accuracy                           0.85       130\n",
            "   macro avg       0.70      0.66      0.68       130\n",
            "weighted avg       0.83      0.85      0.84       130\n",
            "\n",
            "ROC AUC : 0.816\n"
          ]
        },
        {
          "output_type": "stream",
          "name": "stderr",
          "text": [
            "/usr/local/lib/python3.7/dist-packages/sklearn/linear_model/_logistic.py:818: ConvergenceWarning: lbfgs failed to converge (status=1):\n",
            "STOP: TOTAL NO. of ITERATIONS REACHED LIMIT.\n",
            "\n",
            "Increase the number of iterations (max_iter) or scale the data as shown in:\n",
            "    https://scikit-learn.org/stable/modules/preprocessing.html\n",
            "Please also refer to the documentation for alternative solver options:\n",
            "    https://scikit-learn.org/stable/modules/linear_model.html#logistic-regression\n",
            "  extra_warning_msg=_LOGISTIC_SOLVER_CONVERGENCE_MSG,\n",
            "/usr/local/lib/python3.7/dist-packages/sklearn/linear_model/_logistic.py:818: ConvergenceWarning: lbfgs failed to converge (status=1):\n",
            "STOP: TOTAL NO. of ITERATIONS REACHED LIMIT.\n",
            "\n",
            "Increase the number of iterations (max_iter) or scale the data as shown in:\n",
            "    https://scikit-learn.org/stable/modules/preprocessing.html\n",
            "Please also refer to the documentation for alternative solver options:\n",
            "    https://scikit-learn.org/stable/modules/linear_model.html#logistic-regression\n",
            "  extra_warning_msg=_LOGISTIC_SOLVER_CONVERGENCE_MSG,\n"
          ]
        },
        {
          "output_type": "stream",
          "name": "stdout",
          "text": [
            "cross validation : [0.3125 0.4375 0.625  0.375  0.4375]\n",
            "mean : 0.4375\n",
            "(shuffled-split) cross validation : [0.5   0.375 0.25  0.5   0.625 0.25  0.25  0.5   0.    1.   ]\n",
            "mean : 0.425\n"
          ]
        },
        {
          "output_type": "display_data",
          "data": {
            "image/png": "[encoded data removed]",
            "text/plain": [
              "<Figure size 720x360 with 1 Axes>"
            ]
          },
          "metadata": {
            "needs_background": "light"
          }
        }
      ]
    },
    {
      "cell_type": "code",
      "metadata": {
        "colab": {
          "base_uri": "https://localhost:8080/",
          "height": 890
        },
        "id": "lRqCFQ5hZWPg",
        "outputId": "24d84dad-ac56-41ce-9ec9-5418018adcbf"
      },
      "source": [
        "# Logisitic regression with SMOTE\n",
        "\n",
        "sm = SMOTE(sampling_strategy=\"minority\", random_state=RAND)\n",
        "x_train_res, y_train_res = sm.fit_resample(x_train, y_train)\n",
        "lr_clf = LogisticRegression(random_state=RAND)\n",
        "runModel(lr_clf, x_train_res, y_train_res, x_val, y_val)"
      ],
      "execution_count": null,
      "outputs": [
        {
          "output_type": "stream",
          "name": "stdout",
          "text": [
            "[0.09095967 0.98572849 0.00827252 0.00192221 0.59078408 0.13696323\n",
            " 0.25715752 0.52499019 0.46748342 0.22481767]\n",
            "    0   1\n",
            "0  63  47\n",
            "1   3  17\n",
            "accuracy_score : 0.6153846153846154\n",
            "recall_score :  0.6153846153846154\n",
            "precision_score :  0.8485576923076923\n",
            "f1_score :  0.6680402930402931\n",
            "              precision    recall  f1-score   support\n",
            "\n",
            "           0       0.93      0.77      0.85       110\n",
            "           1       0.36      0.70      0.47        20\n",
            "\n",
            "    accuracy                           0.76       130\n",
            "   macro avg       0.65      0.74      0.66       130\n",
            "weighted avg       0.85      0.76      0.79       130\n",
            "\n",
            "ROC AUC : 0.824\n"
          ]
        },
        {
          "output_type": "stream",
          "name": "stderr",
          "text": [
            "/usr/local/lib/python3.7/dist-packages/sklearn/linear_model/_logistic.py:818: ConvergenceWarning: lbfgs failed to converge (status=1):\n",
            "STOP: TOTAL NO. of ITERATIONS REACHED LIMIT.\n",
            "\n",
            "Increase the number of iterations (max_iter) or scale the data as shown in:\n",
            "    https://scikit-learn.org/stable/modules/preprocessing.html\n",
            "Please also refer to the documentation for alternative solver options:\n",
            "    https://scikit-learn.org/stable/modules/linear_model.html#logistic-regression\n",
            "  extra_warning_msg=_LOGISTIC_SOLVER_CONVERGENCE_MSG,\n"
          ]
        },
        {
          "output_type": "stream",
          "name": "stdout",
          "text": [
            "cross validation : [0.72727273 0.90909091 0.89772727 0.91954023 0.90909091]\n",
            "mean : 0.8725444096133751\n",
            "(shuffled-split) cross validation : [0.90909091 0.90909091 0.84090909 0.88636364 0.79545455 0.84090909\n",
            " 0.90909091 0.90909091 0.81818182 0.86363636]\n",
            "mean : 0.8681818181818182\n"
          ]
        },
        {
          "output_type": "display_data",
          "data": {
            "image/png": "[encoded data removed]",
            "text/plain": [
              "<Figure size 720x360 with 1 Axes>"
            ]
          },
          "metadata": {
            "needs_background": "light"
          }
        }
      ]
    },
    {
      "cell_type": "code",
      "metadata": {
        "id": "vH1YaamKebo0"
      },
      "source": [
        "# Logistic Regression model with SMOTE and KMeans. \n",
        "# Two clusters\n",
        "\n",
        "sm = SMOTE(sampling_strategy=\"minority\", random_state=RAND)\n",
        "x_train_res, y_train_res = sm.fit_resample(x_train, y_train)\n",
        "kmeans = KMeans(n_clusters=2, random_state=RAND).fit(x_train_res, y_train_res)\n",
        "x_train_res['kmeansGRP'] = kmeans.labels_\n",
        "x_val_km = x_val.copy()\n",
        "x_val_km['kmeansGRP'] = kmeans.predict(x_val)\n"
      ],
      "execution_count": null,
      "outputs": []
    },
    {
      "cell_type": "code",
      "metadata": {
        "colab": {
          "base_uri": "https://localhost:8080/",
          "height": 1000
        },
        "id": "hzOof8ncfmRM",
        "outputId": "5f5c6ff8-2afa-45af-e0ee-381112fa652a"
      },
      "source": [
        "lr_clf = LogisticRegression(solver='saga', random_state=RAND)\n",
        "runModel(lr_clf, x_train_res, y_train_res, x_val_km, y_val)"
      ],
      "execution_count": null,
      "outputs": [
        {
          "output_type": "stream",
          "name": "stderr",
          "text": [
            "/usr/local/lib/python3.7/dist-packages/sklearn/linear_model/_sag.py:354: ConvergenceWarning: The max_iter was reached which means the coef_ did not converge\n",
            "  ConvergenceWarning,\n"
          ]
        },
        {
          "output_type": "stream",
          "name": "stdout",
          "text": [
            "[0.09766832 0.96782871 0.01588987 0.00218699 0.56131409 0.16506047\n",
            " 0.24229344 0.45420471 0.31455137 0.24703151]\n",
            "    0   1\n",
            "0  61  49\n",
            "1   3  17\n",
            "accuracy_score : 0.6\n",
            "recall_score :  0.6\n",
            "precision_score :  0.8461174242424243\n",
            "f1_score :  0.6541031809676557\n",
            "              precision    recall  f1-score   support\n",
            "\n",
            "           0       0.94      0.76      0.84       110\n",
            "           1       0.37      0.75      0.49        20\n",
            "\n",
            "    accuracy                           0.76       130\n",
            "   macro avg       0.65      0.76      0.67       130\n",
            "weighted avg       0.85      0.76      0.79       130\n",
            "\n",
            "ROC AUC : 0.827\n"
          ]
        },
        {
          "output_type": "stream",
          "name": "stderr",
          "text": [
            "/usr/local/lib/python3.7/dist-packages/sklearn/linear_model/_sag.py:354: ConvergenceWarning: The max_iter was reached which means the coef_ did not converge\n",
            "  ConvergenceWarning,\n",
            "/usr/local/lib/python3.7/dist-packages/sklearn/linear_model/_sag.py:354: ConvergenceWarning: The max_iter was reached which means the coef_ did not converge\n",
            "  ConvergenceWarning,\n",
            "/usr/local/lib/python3.7/dist-packages/sklearn/linear_model/_sag.py:354: ConvergenceWarning: The max_iter was reached which means the coef_ did not converge\n",
            "  ConvergenceWarning,\n",
            "/usr/local/lib/python3.7/dist-packages/sklearn/linear_model/_sag.py:354: ConvergenceWarning: The max_iter was reached which means the coef_ did not converge\n",
            "  ConvergenceWarning,\n",
            "/usr/local/lib/python3.7/dist-packages/sklearn/linear_model/_sag.py:354: ConvergenceWarning: The max_iter was reached which means the coef_ did not converge\n",
            "  ConvergenceWarning,\n",
            "/usr/local/lib/python3.7/dist-packages/sklearn/linear_model/_sag.py:354: ConvergenceWarning: The max_iter was reached which means the coef_ did not converge\n",
            "  ConvergenceWarning,\n",
            "/usr/local/lib/python3.7/dist-packages/sklearn/linear_model/_sag.py:354: ConvergenceWarning: The max_iter was reached which means the coef_ did not converge\n",
            "  ConvergenceWarning,\n",
            "/usr/local/lib/python3.7/dist-packages/sklearn/linear_model/_sag.py:354: ConvergenceWarning: The max_iter was reached which means the coef_ did not converge\n",
            "  ConvergenceWarning,\n",
            "/usr/local/lib/python3.7/dist-packages/sklearn/linear_model/_sag.py:354: ConvergenceWarning: The max_iter was reached which means the coef_ did not converge\n",
            "  ConvergenceWarning,\n"
          ]
        },
        {
          "output_type": "stream",
          "name": "stdout",
          "text": [
            "cross validation : [0.73863636 0.90909091 0.89772727 0.91954023 0.93181818]\n",
            "mean : 0.8793625914315569\n"
          ]
        },
        {
          "output_type": "stream",
          "name": "stderr",
          "text": [
            "/usr/local/lib/python3.7/dist-packages/sklearn/linear_model/_sag.py:354: ConvergenceWarning: The max_iter was reached which means the coef_ did not converge\n",
            "  ConvergenceWarning,\n",
            "/usr/local/lib/python3.7/dist-packages/sklearn/linear_model/_sag.py:354: ConvergenceWarning: The max_iter was reached which means the coef_ did not converge\n",
            "  ConvergenceWarning,\n",
            "/usr/local/lib/python3.7/dist-packages/sklearn/linear_model/_sag.py:354: ConvergenceWarning: The max_iter was reached which means the coef_ did not converge\n",
            "  ConvergenceWarning,\n",
            "/usr/local/lib/python3.7/dist-packages/sklearn/linear_model/_sag.py:354: ConvergenceWarning: The max_iter was reached which means the coef_ did not converge\n",
            "  ConvergenceWarning,\n",
            "/usr/local/lib/python3.7/dist-packages/sklearn/linear_model/_sag.py:354: ConvergenceWarning: The max_iter was reached which means the coef_ did not converge\n",
            "  ConvergenceWarning,\n",
            "/usr/local/lib/python3.7/dist-packages/sklearn/linear_model/_sag.py:354: ConvergenceWarning: The max_iter was reached which means the coef_ did not converge\n",
            "  ConvergenceWarning,\n"
          ]
        },
        {
          "output_type": "stream",
          "name": "stdout",
          "text": [
            "(shuffled-split) cross validation : [0.88636364 0.90909091 0.86363636 0.86363636 0.79545455 0.84090909\n",
            " 0.93181818 0.95454545 0.81818182 0.88636364]\n",
            "mean : 0.875\n"
          ]
        },
        {
          "output_type": "display_data",
          "data": {
            "image/png": "[encoded data removed]",
            "text/plain": [
              "<Figure size 720x360 with 1 Axes>"
            ]
          },
          "metadata": {
            "needs_background": "light"
          }
        }
      ]
    },
    {
      "cell_type": "code",
      "metadata": {
        "id": "S1Zm1Swthni0"
      },
      "source": [
        "# Logistic Regression with just KMeans, and no SMOTE, also 2 clusters.\n",
        "\n",
        "kmeans = KMeans(n_clusters=2, random_state=RAND).fit(x_train, y_train)\n",
        "x_train['kmeansGRP'] = kmeans.labels_\n",
        "\n",
        "x_val_km = x_val.copy()\n",
        "x_val_km['kmeansGRP'] = kmeans.predict(x_val)"
      ],
      "execution_count": null,
      "outputs": []
    },
    {
      "cell_type": "code",
      "metadata": {
        "colab": {
          "base_uri": "https://localhost:8080/",
          "height": 1000
        },
        "id": "Zh6R_cpZhreT",
        "outputId": "a813e59e-1874-4a9a-e6e2-7082930c337b"
      },
      "source": [
        "lr_clf = LogisticRegression(solver='saga', random_state=RAND)\n",
        "runModel(lr_clf, x_train, y_train, x_val_km, y_val)"
      ],
      "execution_count": null,
      "outputs": [
        {
          "output_type": "stream",
          "name": "stderr",
          "text": [
            "/usr/local/lib/python3.7/dist-packages/sklearn/linear_model/_sag.py:354: ConvergenceWarning: The max_iter was reached which means the coef_ did not converge\n",
            "  ConvergenceWarning,\n"
          ]
        },
        {
          "output_type": "stream",
          "name": "stdout",
          "text": [
            "[0.03307638 0.94604616 0.00271763 0.00163496 0.3209935  0.03687802\n",
            " 0.09303512 0.10106603 0.11365877 0.09029891]\n",
            "    0   1\n",
            "0  89  21\n",
            "1   5  15\n",
            "accuracy_score : 0.8\n",
            "recall_score :  0.8\n",
            "precision_score :  0.8652482269503545\n",
            "f1_score :  0.8207282913165266\n",
            "              precision    recall  f1-score   support\n",
            "\n",
            "           0       0.90      0.94      0.92       110\n",
            "           1       0.56      0.45      0.50        20\n",
            "\n",
            "    accuracy                           0.86       130\n",
            "   macro avg       0.73      0.69      0.71       130\n",
            "weighted avg       0.85      0.86      0.86       130\n",
            "\n",
            "ROC AUC : 0.818\n"
          ]
        },
        {
          "output_type": "stream",
          "name": "stderr",
          "text": [
            "/usr/local/lib/python3.7/dist-packages/sklearn/linear_model/_sag.py:354: ConvergenceWarning: The max_iter was reached which means the coef_ did not converge\n",
            "  ConvergenceWarning,\n",
            "/usr/local/lib/python3.7/dist-packages/sklearn/linear_model/_sag.py:354: ConvergenceWarning: The max_iter was reached which means the coef_ did not converge\n",
            "  ConvergenceWarning,\n",
            "/usr/local/lib/python3.7/dist-packages/sklearn/linear_model/_sag.py:354: ConvergenceWarning: The max_iter was reached which means the coef_ did not converge\n",
            "  ConvergenceWarning,\n",
            "/usr/local/lib/python3.7/dist-packages/sklearn/linear_model/_sag.py:354: ConvergenceWarning: The max_iter was reached which means the coef_ did not converge\n",
            "  ConvergenceWarning,\n",
            "/usr/local/lib/python3.7/dist-packages/sklearn/linear_model/_sag.py:354: ConvergenceWarning: The max_iter was reached which means the coef_ did not converge\n",
            "  ConvergenceWarning,\n",
            "/usr/local/lib/python3.7/dist-packages/sklearn/linear_model/_sag.py:354: ConvergenceWarning: The max_iter was reached which means the coef_ did not converge\n",
            "  ConvergenceWarning,\n",
            "/usr/local/lib/python3.7/dist-packages/sklearn/linear_model/_sag.py:354: ConvergenceWarning: The max_iter was reached which means the coef_ did not converge\n",
            "  ConvergenceWarning,\n",
            "/usr/local/lib/python3.7/dist-packages/sklearn/linear_model/_sag.py:354: ConvergenceWarning: The max_iter was reached which means the coef_ did not converge\n",
            "  ConvergenceWarning,\n",
            "/usr/local/lib/python3.7/dist-packages/sklearn/linear_model/_sag.py:354: ConvergenceWarning: The max_iter was reached which means the coef_ did not converge\n",
            "  ConvergenceWarning,\n",
            "/usr/local/lib/python3.7/dist-packages/sklearn/linear_model/_sag.py:354: ConvergenceWarning: The max_iter was reached which means the coef_ did not converge\n",
            "  ConvergenceWarning,\n",
            "/usr/local/lib/python3.7/dist-packages/sklearn/linear_model/_sag.py:354: ConvergenceWarning: The max_iter was reached which means the coef_ did not converge\n",
            "  ConvergenceWarning,\n",
            "/usr/local/lib/python3.7/dist-packages/sklearn/linear_model/_sag.py:354: ConvergenceWarning: The max_iter was reached which means the coef_ did not converge\n",
            "  ConvergenceWarning,\n"
          ]
        },
        {
          "output_type": "stream",
          "name": "stdout",
          "text": [
            "cross validation : [0.3125 0.375  0.5625 0.4375 0.375 ]\n",
            "mean : 0.4125\n",
            "(shuffled-split) cross validation : [0.5   0.5   0.25  0.375 0.5   0.25  0.25  0.5   0.    0.75 ]\n",
            "mean : 0.3875\n"
          ]
        },
        {
          "output_type": "stream",
          "name": "stderr",
          "text": [
            "/usr/local/lib/python3.7/dist-packages/sklearn/linear_model/_sag.py:354: ConvergenceWarning: The max_iter was reached which means the coef_ did not converge\n",
            "  ConvergenceWarning,\n",
            "/usr/local/lib/python3.7/dist-packages/sklearn/linear_model/_sag.py:354: ConvergenceWarning: The max_iter was reached which means the coef_ did not converge\n",
            "  ConvergenceWarning,\n",
            "/usr/local/lib/python3.7/dist-packages/sklearn/linear_model/_sag.py:354: ConvergenceWarning: The max_iter was reached which means the coef_ did not converge\n",
            "  ConvergenceWarning,\n"
          ]
        },
        {
          "output_type": "display_data",
          "data": {
            "image/png": "[encoded data removed]",
            "text/plain": [
              "<Figure size 720x360 with 1 Axes>"
            ]
          },
          "metadata": {
            "needs_background": "light"
          }
        }
      ]
    },
    {
      "cell_type": "markdown",
      "source": [
        "# Testing\n",
        "\n",
        "Code below is to test an alternative \n",
        "method of selecting our predictor variables."
      ],
      "metadata": {
        "id": "9QOa2ls0m9i5"
      }
    },
    {
      "cell_type": "code",
      "source": [
        "tdf = pd.read_csv('student_por_mod.csv')\n",
        "\n",
        "tdf[\"failures\"] = tdf[\"failures\"].map({0: \"no_fail\", 1: \"fail\", 2: \"fail\", 3: \"fail\"})\n",
        "\n",
        "tdf[\"failures\"] = np.where(tdf.failures == \"fail\", 1, 0)\n",
        "print(tdf.shape)"
      ],
      "metadata": {
        "colab": {
          "base_uri": "https://localhost:8080/"
        },
        "id": "CCRsJw1vmnDN",
        "outputId": "054c783e-868e-4932-e112-6d2ea989cd61"
      },
      "execution_count": null,
      "outputs": [
        {
          "output_type": "stream",
          "name": "stdout",
          "text": [
            "(649, 33)\n"
          ]
        }
      ]
    },
    {
      "cell_type": "code",
      "source": [
        "feat_num = tdf.shape[1] - 1\n",
        "print(feat_num)\n",
        "label_encoder = LabelEncoder()\n",
        "tdf.iloc[:,feat_num] = label_encoder.fit_transform(tdf.iloc[:,feat_num]).astype('float64')\n",
        "print(tdf)"
      ],
      "metadata": {
        "colab": {
          "base_uri": "https://localhost:8080/"
        },
        "id": "p5l7YDn2nK1o",
        "outputId": "32a1b9dd-1b6c-4112-d90a-c18f6f5848cc"
      },
      "execution_count": null,
      "outputs": [
        {
          "output_type": "stream",
          "name": "stdout",
          "text": [
            "32\n",
            "    school sex  age address famsize  ... health  absences  G1  G2    G3\n",
            "0       GP   F   18       U     GT3  ...      3         4   0  11   8.0\n",
            "1       GP   F   17       U     GT3  ...      3         2   9  11   8.0\n",
            "2       GP   F   15       U     LE3  ...      3         6  12  13   9.0\n",
            "3       GP   F   15       U     GT3  ...      5         0  14  14  11.0\n",
            "4       GP   F   16       U     GT3  ...      5         0  11  13  10.0\n",
            "..     ...  ..  ...     ...     ...  ...    ...       ...  ..  ..   ...\n",
            "644     MS   F   19       R     GT3  ...      5         4  10  11   7.0\n",
            "645     MS   F   18       U     LE3  ...      1         4  15  15  13.0\n",
            "646     MS   F   18       U     GT3  ...      5         6  11  12   6.0\n",
            "647     MS   M   17       U     LE3  ...      2         6  10  10   7.0\n",
            "648     MS   M   18       R     LE3  ...      5         4  10  11   8.0\n",
            "\n",
            "[649 rows x 33 columns]\n"
          ]
        }
      ]
    },
    {
      "cell_type": "code",
      "source": [
        "tdf_t = pd.get_dummies(tdf, drop_first=True)\n",
        "print(tdf_t)"
      ],
      "metadata": {
        "colab": {
          "base_uri": "https://localhost:8080/"
        },
        "id": "d5kK-qnJpsTw",
        "outputId": "340d706e-95a2-4206-b1b1-cf6a5dc77b90"
      },
      "execution_count": null,
      "outputs": [
        {
          "output_type": "stream",
          "name": "stdout",
          "text": [
            "     age  Medu  Fedu  ...  higher_yes  internet_yes  romantic_yes\n",
            "0     18     4     4  ...           1             0             0\n",
            "1     17     1     1  ...           1             1             0\n",
            "2     15     1     1  ...           1             1             0\n",
            "3     15     4     2  ...           1             1             1\n",
            "4     16     3     3  ...           1             0             0\n",
            "..   ...   ...   ...  ...         ...           ...           ...\n",
            "644   19     2     3  ...           1             1             0\n",
            "645   18     3     1  ...           1             1             0\n",
            "646   18     1     1  ...           1             0             0\n",
            "647   17     3     1  ...           1             1             0\n",
            "648   18     3     2  ...           1             1             0\n",
            "\n",
            "[649 rows x 42 columns]\n"
          ]
        }
      ]
    },
    {
      "cell_type": "code",
      "source": [
        "corr_matr = tdf_t.corr()"
      ],
      "metadata": {
        "id": "kDkn_TnNndut"
      },
      "execution_count": null,
      "outputs": []
    },
    {
      "cell_type": "code",
      "source": [
        "sns.heatmap(corr_matr)"
      ],
      "metadata": {
        "colab": {
          "base_uri": "https://localhost:8080/",
          "height": 421
        },
        "id": "Mdard8-OnwRc",
        "outputId": "0c37a6ea-fd01-4ef9-c0f3-4bd5148464cb"
      },
      "execution_count": null,
      "outputs": [
        {
          "output_type": "execute_result",
          "data": {
            "text/plain": [
              "<matplotlib.axes._subplots.AxesSubplot at 0x7f5da6e27050>"
            ]
          },
          "metadata": {},
          "execution_count": 35
        },
        {
          "output_type": "display_data",
          "data": {
            "image/png": "[encoded data removed]",
            "text/plain": [
              "<Figure size 720x360 with 2 Axes>"
            ]
          },
          "metadata": {
            "needs_background": "light"
          }
        }
      ]
    },
    {
      "cell_type": "code",
      "source": [
        "cols = np.full((corr_matr.shape[0],), True, dtype=bool)\n",
        "for i in range(corr_matr.shape[0]):\n",
        "  for j in range(i+1, corr_matr.shape[0]):\n",
        "    if corr_matr.iloc[i,j] >= 0.9:\n",
        "      if cols[j]:\n",
        "        cols[j] = False\n",
        "\n",
        "selected_cols = tdf_t.columns[cols]"
      ],
      "metadata": {
        "id": "GGOzAQ8cnx-H"
      },
      "execution_count": null,
      "outputs": []
    },
    {
      "cell_type": "code",
      "source": [
        "tdf_t = tdf_t[selected_cols]\n",
        "print(tdf_t)"
      ],
      "metadata": {
        "colab": {
          "base_uri": "https://localhost:8080/"
        },
        "id": "iWpKoKroqiFD",
        "outputId": "89cf1b17-0e73-4a2f-ae9d-41d1f748c1d5"
      },
      "execution_count": null,
      "outputs": [
        {
          "output_type": "stream",
          "name": "stdout",
          "text": [
            "     age  Medu  Fedu  ...  higher_yes  internet_yes  romantic_yes\n",
            "0     18     4     4  ...           1             0             0\n",
            "1     17     1     1  ...           1             1             0\n",
            "2     15     1     1  ...           1             1             0\n",
            "3     15     4     2  ...           1             1             1\n",
            "4     16     3     3  ...           1             0             0\n",
            "..   ...   ...   ...  ...         ...           ...           ...\n",
            "644   19     2     3  ...           1             1             0\n",
            "645   18     3     1  ...           1             1             0\n",
            "646   18     1     1  ...           1             0             0\n",
            "647   17     3     1  ...           1             1             0\n",
            "648   18     3     2  ...           1             1             0\n",
            "\n",
            "[649 rows x 41 columns]\n"
          ]
        }
      ]
    },
    {
      "cell_type": "code",
      "source": [
        "#selected_cols = tdf_t[1:].values\n",
        "print(selected_cols)"
      ],
      "metadata": {
        "colab": {
          "base_uri": "https://localhost:8080/"
        },
        "id": "Ri9n2utBqmFw",
        "outputId": "8888b6e1-f319-4696-d4e3-81c64005880c"
      },
      "execution_count": null,
      "outputs": [
        {
          "output_type": "stream",
          "name": "stdout",
          "text": [
            "Index(['age', 'Medu', 'Fedu', 'traveltime', 'studytime', 'failures', 'famrel',\n",
            "       'freetime', 'goout', 'Dalc', 'Walc', 'health', 'absences', 'G1', 'G2',\n",
            "       'school_MS', 'sex_M', 'address_U', 'famsize_LE3', 'Pstatus_T',\n",
            "       'Mjob_health', 'Mjob_other', 'Mjob_services', 'Mjob_teacher',\n",
            "       'Fjob_health', 'Fjob_other', 'Fjob_services', 'Fjob_teacher',\n",
            "       'reason_home', 'reason_other', 'reason_reputation', 'guardian_mother',\n",
            "       'guardian_other', 'schoolsup_yes', 'famsup_yes', 'paid_yes',\n",
            "       'activities_yes', 'nursery_yes', 'higher_yes', 'internet_yes',\n",
            "       'romantic_yes'],\n",
            "      dtype='object')\n"
          ]
        }
      ]
    },
    {
      "cell_type": "code",
      "source": [
        "import statsmodels.formula.api as sm\n",
        "import statsmodels.api as sm\n",
        "def back_elim(x, Y, sl, cols):\n",
        "  n_var = len(x[0])\n",
        "  for i in range(0, n_var):\n",
        "    regressor_OLS = sm.OLS(Y, x).fit()\n",
        "    max_var = max(regressor_OLS.pvalues).astype(float)\n",
        "    if max_var >= sl:\n",
        "      for j in range(0, n_var - i):\n",
        "        if (regressor_OLS.pvalues[j].astype(float) == max_var):\n",
        "          x = np.delete(x, j, 1)\n",
        "          cols = np.delete(cols, j)\n",
        "  regressor_OLS.summary()\n",
        "  return x, cols"
      ],
      "metadata": {
        "id": "uog_n53YrGRy"
      },
      "execution_count": null,
      "outputs": []
    },
    {
      "cell_type": "code",
      "source": [
        "SL = 0.05\n",
        "data_modeled, selected_cols = back_elim(tdf_t.iloc[:,1:].values, tdf_t.iloc[:,0].values, SL, selected_cols)"
      ],
      "metadata": {
        "id": "1YCSonPgr21d"
      },
      "execution_count": null,
      "outputs": []
    },
    {
      "cell_type": "code",
      "source": [
        "result = pd.DataFrame()\n",
        "result['failures'] = tdf_t.iloc[:,0]\n",
        "print(result)"
      ],
      "metadata": {
        "colab": {
          "base_uri": "https://localhost:8080/"
        },
        "id": "kBb1MWoVsNq0",
        "outputId": "bbbfc3de-4d17-4da9-e3c4-67948330cac8"
      },
      "execution_count": null,
      "outputs": [
        {
          "output_type": "stream",
          "name": "stdout",
          "text": [
            "     failures\n",
            "0          18\n",
            "1          17\n",
            "2          15\n",
            "3          15\n",
            "4          16\n",
            "..        ...\n",
            "644        19\n",
            "645        18\n",
            "646        18\n",
            "647        17\n",
            "648        18\n",
            "\n",
            "[649 rows x 1 columns]\n"
          ]
        }
      ]
    },
    {
      "cell_type": "code",
      "source": [
        "selected_cols  = selected_cols.drop(\"failures\")\n",
        "ndf = pd.DataFrame(data = data_modeled, columns = selected_cols)"
      ],
      "metadata": {
        "id": "u7cF01vFujiT"
      },
      "execution_count": null,
      "outputs": []
    },
    {
      "cell_type": "code",
      "source": [
        "x_train, x_test, y_train, y_test = train_test_split(ndf.values, result.values, test_size = 0.2)"
      ],
      "metadata": {
        "id": "2axR79x9xjy_"
      },
      "execution_count": null,
      "outputs": []
    },
    {
      "cell_type": "code",
      "source": [
        "# Decision Tree\n",
        "\n",
        "d_tree = DecisionTreeClassifier(max_depth=3, random_state=RAND)\n",
        "runModel(d_tree, x_train, y_train, x_test, y_test)"
      ],
      "metadata": {
        "id": "9RIgfjslymjb",
        "colab": {
          "base_uri": "https://localhost:8080/",
          "height": 990
        },
        "outputId": "a8e0b535-4b87-41f2-c169-7b72c3778007"
      },
      "execution_count": null,
      "outputs": [
        {
          "output_type": "stream",
          "name": "stdout",
          "text": [
            "[0.29562044 0.30909091 0.29562044 0.29562044 0.29562044 0.29562044\n",
            " 0.29562044 0.29562044 0.30909091 0.30909091]\n",
            "    15  16  17  18  19  20\n",
            "15   0   0   0   0   0   0\n",
            "16   0   0   0   0   0   0\n",
            "17   0   0   0   0   0   0\n",
            "18   0   0   0   0   0   0\n",
            "19   0   0   0   0   0   0\n",
            "20   0   0   0   0   0   0\n",
            "accuracy_score : 0.0\n",
            "recall_score :  0.0\n",
            "precision_score :  0.0\n",
            "f1_score :  0.0\n",
            "              precision    recall  f1-score   support\n",
            "\n",
            "          15       0.00      0.00      0.00        18\n",
            "          16       0.29      0.40      0.34        35\n",
            "          17       0.32      0.56      0.41        41\n",
            "          18       0.18      0.07      0.10        29\n",
            "          19       0.00      0.00      0.00         6\n",
            "          20       0.00      0.00      0.00         1\n",
            "\n",
            "    accuracy                           0.30       130\n",
            "   macro avg       0.13      0.17      0.14       130\n",
            "weighted avg       0.22      0.30      0.24       130\n",
            "\n"
          ]
        },
        {
          "output_type": "stream",
          "name": "stderr",
          "text": [
            "/usr/local/lib/python3.7/dist-packages/sklearn/metrics/_classification.py:1308: UndefinedMetricWarning: Recall is ill-defined and being set to 0.0 in labels with no true samples. Use `zero_division` parameter to control this behavior.\n",
            "  _warn_prf(average, modifier, msg_start, len(result))\n",
            "/usr/local/lib/python3.7/dist-packages/sklearn/metrics/_classification.py:1308: UndefinedMetricWarning: Precision is ill-defined and being set to 0.0 in labels with no predicted samples. Use `zero_division` parameter to control this behavior.\n",
            "  _warn_prf(average, modifier, msg_start, len(result))\n",
            "/usr/local/lib/python3.7/dist-packages/sklearn/metrics/_classification.py:1308: UndefinedMetricWarning: Precision and F-score are ill-defined and being set to 0.0 in labels with no predicted samples. Use `zero_division` parameter to control this behavior.\n",
            "  _warn_prf(average, modifier, msg_start, len(result))\n",
            "/usr/local/lib/python3.7/dist-packages/sklearn/metrics/_classification.py:1308: UndefinedMetricWarning: Precision and F-score are ill-defined and being set to 0.0 in labels with no predicted samples. Use `zero_division` parameter to control this behavior.\n",
            "  _warn_prf(average, modifier, msg_start, len(result))\n",
            "/usr/local/lib/python3.7/dist-packages/sklearn/metrics/_classification.py:1308: UndefinedMetricWarning: Precision and F-score are ill-defined and being set to 0.0 in labels with no predicted samples. Use `zero_division` parameter to control this behavior.\n",
            "  _warn_prf(average, modifier, msg_start, len(result))\n"
          ]
        },
        {
          "output_type": "error",
          "ename": "ValueError",
          "evalue": "ignored",
          "traceback": [
            "\u001b[0;31m---------------------------------------------------------------------------\u001b[0m",
            "\u001b[0;31mValueError\u001b[0m                                Traceback (most recent call last)",
            "\u001b[0;32m<ipython-input-44-7c5ebbb059de>\u001b[0m in \u001b[0;36m<module>\u001b[0;34m()\u001b[0m\n\u001b[1;32m      2\u001b[0m \u001b[0;34m\u001b[0m\u001b[0m\n\u001b[1;32m      3\u001b[0m \u001b[0md_tree\u001b[0m \u001b[0;34m=\u001b[0m \u001b[0mDecisionTreeClassifier\u001b[0m\u001b[0;34m(\u001b[0m\u001b[0mmax_depth\u001b[0m\u001b[0;34m=\u001b[0m\u001b[0;36m3\u001b[0m\u001b[0;34m,\u001b[0m \u001b[0mrandom_state\u001b[0m\u001b[0;34m=\u001b[0m\u001b[0mRAND\u001b[0m\u001b[0;34m)\u001b[0m\u001b[0;34m\u001b[0m\u001b[0;34m\u001b[0m\u001b[0m\n\u001b[0;32m----> 4\u001b[0;31m \u001b[0mrunModel\u001b[0m\u001b[0;34m(\u001b[0m\u001b[0md_tree\u001b[0m\u001b[0;34m,\u001b[0m \u001b[0mx_train\u001b[0m\u001b[0;34m,\u001b[0m \u001b[0my_train\u001b[0m\u001b[0;34m,\u001b[0m \u001b[0mx_test\u001b[0m\u001b[0;34m,\u001b[0m \u001b[0my_test\u001b[0m\u001b[0;34m)\u001b[0m\u001b[0;34m\u001b[0m\u001b[0;34m\u001b[0m\u001b[0m\n\u001b[0m",
            "\u001b[0;32m<ipython-input-11-52e0049c9258>\u001b[0m in \u001b[0;36mrunModel\u001b[0;34m(model, xt, yt, xv, yv)\u001b[0m\n\u001b[1;32m     14\u001b[0m     \u001b[0mprint\u001b[0m\u001b[0;34m(\u001b[0m\u001b[0mmetrics\u001b[0m\u001b[0;34m.\u001b[0m\u001b[0mclassification_report\u001b[0m\u001b[0;34m(\u001b[0m\u001b[0myv\u001b[0m\u001b[0;34m,\u001b[0m \u001b[0my_pred\u001b[0m\u001b[0;34m)\u001b[0m\u001b[0;34m)\u001b[0m\u001b[0;34m\u001b[0m\u001b[0;34m\u001b[0m\u001b[0m\n\u001b[1;32m     15\u001b[0m     \u001b[0;31m# calculate scores & Extracting probabilities\u001b[0m\u001b[0;34m\u001b[0m\u001b[0;34m\u001b[0m\u001b[0;34m\u001b[0m\u001b[0m\n\u001b[0;32m---> 16\u001b[0;31m     \u001b[0mauc\u001b[0m \u001b[0;34m=\u001b[0m \u001b[0mroc_auc_score\u001b[0m\u001b[0;34m(\u001b[0m\u001b[0myv\u001b[0m\u001b[0;34m,\u001b[0m \u001b[0mpd\u001b[0m\u001b[0;34m.\u001b[0m\u001b[0mSeries\u001b[0m\u001b[0;34m(\u001b[0m\u001b[0mmodel\u001b[0m\u001b[0;34m.\u001b[0m\u001b[0mpredict_proba\u001b[0m\u001b[0;34m(\u001b[0m\u001b[0mxv\u001b[0m\u001b[0;34m)\u001b[0m\u001b[0;34m[\u001b[0m\u001b[0;34m:\u001b[0m\u001b[0;34m,\u001b[0m \u001b[0;36m1\u001b[0m\u001b[0;34m]\u001b[0m\u001b[0;34m)\u001b[0m\u001b[0;34m)\u001b[0m\u001b[0;34m\u001b[0m\u001b[0;34m\u001b[0m\u001b[0m\n\u001b[0m\u001b[1;32m     17\u001b[0m     \u001b[0;31m# summarize scores\u001b[0m\u001b[0;34m\u001b[0m\u001b[0;34m\u001b[0m\u001b[0;34m\u001b[0m\u001b[0m\n\u001b[1;32m     18\u001b[0m     \u001b[0mprint\u001b[0m\u001b[0;34m(\u001b[0m\u001b[0;34mf\"ROC AUC : {auc:.3f}\"\u001b[0m\u001b[0;34m)\u001b[0m\u001b[0;34m\u001b[0m\u001b[0;34m\u001b[0m\u001b[0m\n",
            "\u001b[0;32m/usr/local/lib/python3.7/dist-packages/sklearn/metrics/_ranking.py\u001b[0m in \u001b[0;36mroc_auc_score\u001b[0;34m(y_true, y_score, average, sample_weight, max_fpr, multi_class, labels)\u001b[0m\n\u001b[1;32m    558\u001b[0m             )\n\u001b[1;32m    559\u001b[0m         \u001b[0;32mif\u001b[0m \u001b[0mmulti_class\u001b[0m \u001b[0;34m==\u001b[0m \u001b[0;34m\"raise\"\u001b[0m\u001b[0;34m:\u001b[0m\u001b[0;34m\u001b[0m\u001b[0;34m\u001b[0m\u001b[0m\n\u001b[0;32m--> 560\u001b[0;31m             \u001b[0;32mraise\u001b[0m \u001b[0mValueError\u001b[0m\u001b[0;34m(\u001b[0m\u001b[0;34m\"multi_class must be in ('ovo', 'ovr')\"\u001b[0m\u001b[0;34m)\u001b[0m\u001b[0;34m\u001b[0m\u001b[0;34m\u001b[0m\u001b[0m\n\u001b[0m\u001b[1;32m    561\u001b[0m         return _multiclass_roc_auc_score(\n\u001b[1;32m    562\u001b[0m             \u001b[0my_true\u001b[0m\u001b[0;34m,\u001b[0m \u001b[0my_score\u001b[0m\u001b[0;34m,\u001b[0m \u001b[0mlabels\u001b[0m\u001b[0;34m,\u001b[0m \u001b[0mmulti_class\u001b[0m\u001b[0;34m,\u001b[0m \u001b[0maverage\u001b[0m\u001b[0;34m,\u001b[0m \u001b[0msample_weight\u001b[0m\u001b[0;34m\u001b[0m\u001b[0;34m\u001b[0m\u001b[0m\n",
            "\u001b[0;31mValueError\u001b[0m: multi_class must be in ('ovo', 'ovr')"
          ]
        }
      ]
    },
    {
      "cell_type": "code",
      "source": [
        ""
      ],
      "metadata": {
        "id": "fL7IdFd2ImOS"
      },
      "execution_count": null,
      "outputs": []
    }
  ]
}